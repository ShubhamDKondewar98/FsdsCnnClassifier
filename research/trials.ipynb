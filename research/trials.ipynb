{
 "cells": [
  {
   "cell_type": "code",
   "execution_count": null,
   "id": "4fa8d096",
   "metadata": {},
   "outputs": [],
   "source": [
    "import os"
   ]
  },
  {
   "cell_type": "code",
   "execution_count": null,
   "id": "4d3ecdfb",
   "metadata": {},
   "outputs": [],
   "source": [
    "def add_number(a,b):\n",
    "    return a+b\n",
    "\n",
    "add_numbers(10,20)"
   ]
  },
  {
   "cell_type": "code",
   "execution_count": null,
   "id": "827c2200",
   "metadata": {},
   "outputs": [],
   "source": [
    "def add_number(a,b):\n",
    "  return a*b\n",
    "\n",
    "add_number(10,\"tesdt\") "
   ]
  },
  {
   "cell_type": "code",
   "execution_count": null,
   "id": "c19259b3",
   "metadata": {},
   "outputs": [],
   "source": [
    "def add_number(a:int,b:int):\n",
    "  return a*b\n",
    "\n",
    "add_number(10,20)\n",
    "add_number(10,\"test\")"
   ]
  },
  {
   "cell_type": "code",
   "execution_count": null,
   "id": "97d3ab63",
   "metadata": {},
   "outputs": [],
   "source": [
    "def add_number(a:int,b:int):\n",
    "  return a*b\n",
    "\n",
    "add_number(10,20)\n",
    "add_number(10,\"test\")"
   ]
  },
  {
   "cell_type": "code",
   "execution_count": null,
   "id": "e3ecc4f1",
   "metadata": {},
   "outputs": [],
   "source": [
    "def add_number(a:int,b:int)->int:\n",
    "  return a*b\n",
    "\n",
    "add_number(10,20)\n",
    "add_number(10,\"test\")"
   ]
  },
  {
   "cell_type": "code",
   "execution_count": null,
   "id": "0c4e35ac",
   "metadata": {},
   "outputs": [],
   "source": [
    "!pip install ensure\n",
    "from ensure import ensure_annotations"
   ]
  },
  {
   "cell_type": "code",
   "execution_count": null,
   "id": "222e6dec",
   "metadata": {},
   "outputs": [],
   "source": [
    "from ensure import ensure_annotations\n",
    "@ensure_annotations\n",
    "def add_number(a:int,b:int)->int:\n",
    "  return a*b\n",
    "\n",
    "add_number(10,20) \n"
   ]
  },
  {
   "cell_type": "code",
   "execution_count": null,
   "id": "931990e5",
   "metadata": {},
   "outputs": [],
   "source": [
    "add_number(10,\"test\")"
   ]
  },
  {
   "cell_type": "code",
   "execution_count": null,
   "id": "a8f701d9",
   "metadata": {},
   "outputs": [],
   "source": [
    "###refer"
   ]
  },
  {
   "cell_type": "code",
   "execution_count": null,
   "id": "f23c591c",
   "metadata": {},
   "outputs": [],
   "source": []
  },
  {
   "cell_type": "code",
   "execution_count": null,
   "id": "f61a9b56",
   "metadata": {},
   "outputs": [],
   "source": []
  },
  {
   "cell_type": "code",
   "execution_count": null,
   "id": "f0997547",
   "metadata": {},
   "outputs": [],
   "source": []
  },
  {
   "cell_type": "code",
   "execution_count": null,
   "id": "7b3ba435",
   "metadata": {},
   "outputs": [],
   "source": []
  }
 ],
 "metadata": {
  "kernelspec": {
   "display_name": "Python 3",
   "language": "python",
   "name": "python3"
  },
  "language_info": {
   "name": "python",
   "version": "3.8.20"
  }
 },
 "nbformat": 4,
 "nbformat_minor": 5
}
